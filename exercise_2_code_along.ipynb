{
 "cells": [
  {
   "cell_type": "markdown",
   "id": "704f6804",
   "metadata": {},
   "source": [
    "Let’s try out what we’ve just shown you.  Write a Class definition in Python for the Patient class outlined on this slide.  \n",
    "\n",
    "The attend_ed() method should randomly sample a time for the patient to remain in ED from an exponential distribution based on the mean time in minutes passed into the method, and print a message stating their name, patient ID and how long they were there.  To sample from an exponential distribution, we can use the expovariate function of the random library, and specify lambda as the input parameter (lambda = 1 / mean).\n",
    "\n",
    "The receive_treatment() method will randomly determine whether the patient is cured, with the probability of cure being determined by the number (between 0 and 1) passed into the method.  A uniform distribution is sampled from to determine if they are cured or not based on this probability (think how you’d do this).  If the patient is cured, their cured attribute is updated to True (this attribute defaults to false on instantiation, and therefore doesn’t need to be passed into the constructor, but does still need setting up in it).  A message is displayed to inform the user either way, with the patient’s details, including name, ID and prob of cure.\n",
    "\n",
    "Once you’ve defined the class, create some instances of the Patient class and call the attend_ed() and receive_treatment() methods to see what happens.  You can either do this in the program, or interactively in the iPython console after you’ve run the code containing the Class definition.\n",
    "\n",
    "You have 45 minutes (+10 min break).  Work in your groups."
   ]
  },
  {
   "cell_type": "code",
   "execution_count": null,
   "id": "66277a28",
   "metadata": {},
   "outputs": [],
   "source": [
    "CLASS : Patient\n",
    "\n",
    "Attributes\n",
    "name : string\n",
    "patient_id : integer\n",
    "age : integer\n",
    "cured : boolean (default = False)\n",
    "\n",
    "Methods\n",
    "attend_ed(mean_time : float)\n",
    "receive_treatment(prob_cure : float)"
   ]
  },
  {
   "cell_type": "code",
   "execution_count": 1,
   "id": "08496774",
   "metadata": {},
   "outputs": [],
   "source": [
    "import random"
   ]
  },
  {
   "cell_type": "markdown",
   "id": "fa7f91b3",
   "metadata": {},
   "source": [
    "The attend_ed() method should randomly sample a time for the patient to remain in ED from an exponential distribution based on the mean time in minutes passed into the method, and print a message stating their name, patient ID and how long they were there. To sample from an exponential distribution, we can use the expovariate function of the random library, and specify lambda as the input parameter (lambda = 1 / mean)."
   ]
  },
  {
   "cell_type": "markdown",
   "id": "43bbb651",
   "metadata": {},
   "source": [
    "The receive_treatment() method will randomly determine whether the patient is cured, with the probability of cure being determined by the number (between 0 and 1) passed into the method. A uniform distribution is sampled from to determine if they are cured or not based on this probability (think how you’d do this). If the patient is cured, their cured attribute is updated to True (this attribute defaults to false on instantiation, and therefore doesn’t need to be passed into the constructor, but does still need setting up in it). A message is displayed to inform the user either way, with the patient’s details, including name, ID and prob of cure."
   ]
  },
  {
   "cell_type": "code",
   "execution_count": 75,
   "id": "046afafd",
   "metadata": {},
   "outputs": [],
   "source": [
    "class Patient:\n",
    "    def __init__(self, name, patient_id, age):\n",
    "        self.name = name\n",
    "        self.patient_id = patient_id\n",
    "        self.age = age\n",
    "        self.cured = False\n",
    "    \n",
    "    def attend_ed(self, mean_time):\n",
    "        time_spent_in_ed = random.expovariate(1 / mean_time)\n",
    "        \n",
    "        # print a message stating their name, patient ID and how long they were there\n",
    "        print(f\"{self.name}, {self.patient_id} was in the dept for {time_spent_in_ed:.1f} mins\")\n",
    "        \n",
    "    def receive_treatment(self, prob_cure):\n",
    "        print(f\"we're going to check the chance of a cure for {self.name}\")\n",
    "        if random.uniform(0, 1) < prob_cure:\n",
    "            print(\"cured\")\n",
    "        else:\n",
    "            print(\"not cured\")\n",
    "        "
   ]
  },
  {
   "cell_type": "code",
   "execution_count": 76,
   "id": "17d4d969",
   "metadata": {},
   "outputs": [
    {
     "name": "stdout",
     "output_type": "stream",
     "text": [
      "we're going to check the chance of a cure for Bob Smith\n",
      "cured\n"
     ]
    }
   ],
   "source": [
    "pat_1 = Patient(\"Bob Smith\", 998544, 61)\n",
    "pat_1.receive_treatment(0.75)"
   ]
  },
  {
   "cell_type": "code",
   "execution_count": 63,
   "id": "672caf57",
   "metadata": {},
   "outputs": [],
   "source": [
    "def ecs_custom_function(input1):\n",
    "    \"\"\"\n",
    "    This helper function will multiple the input variable by 3\n",
    "    \n",
    "    Params\n",
    "    input1 : int\n",
    "        user defined number\n",
    "        \n",
    "    Output\n",
    "    output_number : int\n",
    "        input multiplied by 3\n",
    "    \"\"\"\n",
    "    return input1 * 3"
   ]
  },
  {
   "cell_type": "code",
   "execution_count": null,
   "id": "d39bbd8f",
   "metadata": {},
   "outputs": [],
   "source": [
    "ecs_custom_function()"
   ]
  },
  {
   "cell_type": "code",
   "execution_count": null,
   "id": "d7e4a463",
   "metadata": {},
   "outputs": [],
   "source": [
    "print()"
   ]
  },
  {
   "cell_type": "code",
   "execution_count": 68,
   "id": "6366dee4",
   "metadata": {},
   "outputs": [],
   "source": [
    "patient_1 = Patient(\"Bob Smith\", 998544, 61)\n",
    "patient_2 = Patient(\"Rita Warren\", 1253617, 17)\n",
    "patient_3 = Patient(\"Simon Tyler\", 88541, 21)\n",
    "patient_4 = Patient(\"Jack Robertson\", 65656, 89)\n",
    "\n",
    "list_of_patients = [patient_1,\n",
    "                   patient_2,\n",
    "                   patient_3,\n",
    "                   patient_4]"
   ]
  },
  {
   "cell_type": "code",
   "execution_count": 69,
   "id": "30ba4da8",
   "metadata": {},
   "outputs": [
    {
     "name": "stdout",
     "output_type": "stream",
     "text": [
      "0.5\n"
     ]
    },
    {
     "ename": "NameError",
     "evalue": "name 'name' is not defined",
     "output_type": "error",
     "traceback": [
      "\u001b[0;31m---------------------------------------------------------------------------\u001b[0m",
      "\u001b[0;31mNameError\u001b[0m                                 Traceback (most recent call last)",
      "\u001b[0;32m/tmp/ipykernel_15223/2492105248.py\u001b[0m in \u001b[0;36m<module>\u001b[0;34m\u001b[0m\n\u001b[1;32m      2\u001b[0m     \u001b[0mthis_pats_prob_cure\u001b[0m \u001b[0;34m=\u001b[0m \u001b[0;36m.5\u001b[0m\u001b[0;34m\u001b[0m\u001b[0;34m\u001b[0m\u001b[0m\n\u001b[1;32m      3\u001b[0m     \u001b[0mprint\u001b[0m\u001b[0;34m(\u001b[0m\u001b[0mthis_pats_prob_cure\u001b[0m\u001b[0;34m)\u001b[0m\u001b[0;34m\u001b[0m\u001b[0;34m\u001b[0m\u001b[0m\n\u001b[0;32m----> 4\u001b[0;31m     \u001b[0mpatient\u001b[0m\u001b[0;34m.\u001b[0m\u001b[0mreceive_treatment\u001b[0m\u001b[0;34m(\u001b[0m\u001b[0mthis_pats_prob_cure\u001b[0m\u001b[0;34m)\u001b[0m\u001b[0;34m\u001b[0m\u001b[0;34m\u001b[0m\u001b[0m\n\u001b[0m",
      "\u001b[0;32m/tmp/ipykernel_15223/1892443792.py\u001b[0m in \u001b[0;36mreceive_treatment\u001b[0;34m(self, prob_cure)\u001b[0m\n\u001b[1;32m     13\u001b[0m \u001b[0;34m\u001b[0m\u001b[0m\n\u001b[1;32m     14\u001b[0m     \u001b[0;32mdef\u001b[0m \u001b[0mreceive_treatment\u001b[0m\u001b[0;34m(\u001b[0m\u001b[0mself\u001b[0m\u001b[0;34m,\u001b[0m \u001b[0mprob_cure\u001b[0m\u001b[0;34m)\u001b[0m\u001b[0;34m:\u001b[0m\u001b[0;34m\u001b[0m\u001b[0;34m\u001b[0m\u001b[0m\n\u001b[0;32m---> 15\u001b[0;31m         \u001b[0mprint\u001b[0m\u001b[0;34m(\u001b[0m\u001b[0;34mf\"we're going to check the chance of a cure for {name}\"\u001b[0m\u001b[0;34m)\u001b[0m\u001b[0;34m\u001b[0m\u001b[0;34m\u001b[0m\u001b[0m\n\u001b[0m\u001b[1;32m     16\u001b[0m         \u001b[0;32mif\u001b[0m \u001b[0mrandom\u001b[0m\u001b[0;34m.\u001b[0m\u001b[0muniform\u001b[0m\u001b[0;34m(\u001b[0m\u001b[0;36m0\u001b[0m\u001b[0;34m,\u001b[0m \u001b[0;36m1\u001b[0m\u001b[0;34m)\u001b[0m \u001b[0;34m<\u001b[0m \u001b[0mprob_cure\u001b[0m\u001b[0;34m:\u001b[0m\u001b[0;34m\u001b[0m\u001b[0;34m\u001b[0m\u001b[0m\n\u001b[1;32m     17\u001b[0m             \u001b[0mprint\u001b[0m\u001b[0;34m(\u001b[0m\u001b[0;34m\"cured\"\u001b[0m\u001b[0;34m)\u001b[0m\u001b[0;34m\u001b[0m\u001b[0;34m\u001b[0m\u001b[0m\n",
      "\u001b[0;31mNameError\u001b[0m: name 'name' is not defined"
     ]
    }
   ],
   "source": [
    "for patient in list_of_patients:\n",
    "    this_pats_prob_cure = .5\n",
    "    print(this_pats_prob_cure)\n",
    "    patient.receive_treatment(this_pats_prob_cure)"
   ]
  },
  {
   "cell_type": "code",
   "execution_count": null,
   "id": "d8180cf1",
   "metadata": {},
   "outputs": [],
   "source": [
    "for patient in list_of_patients:\n",
    "    print(patient.age)"
   ]
  },
  {
   "cell_type": "code",
   "execution_count": 61,
   "id": "bec275e0",
   "metadata": {},
   "outputs": [
    {
     "name": "stdout",
     "output_type": "stream",
     "text": [
      "cured\n"
     ]
    }
   ],
   "source": [
    "patient_1.receive_treatment(.5)"
   ]
  },
  {
   "cell_type": "code",
   "execution_count": 39,
   "id": "12c44471",
   "metadata": {},
   "outputs": [
    {
     "data": {
      "text/plain": [
       "'Bob Smith'"
      ]
     },
     "execution_count": 39,
     "metadata": {},
     "output_type": "execute_result"
    }
   ],
   "source": [
    "patient_1.name"
   ]
  },
  {
   "cell_type": "code",
   "execution_count": 40,
   "id": "5cc46b09",
   "metadata": {},
   "outputs": [
    {
     "data": {
      "text/plain": [
       "1253617"
      ]
     },
     "execution_count": 40,
     "metadata": {},
     "output_type": "execute_result"
    }
   ],
   "source": [
    "patient_1.patient_id"
   ]
  },
  {
   "cell_type": "code",
   "execution_count": 41,
   "id": "06d16bcb",
   "metadata": {},
   "outputs": [
    {
     "data": {
      "text/plain": [
       "False"
      ]
     },
     "execution_count": 41,
     "metadata": {},
     "output_type": "execute_result"
    }
   ],
   "source": [
    "patient_1.cured"
   ]
  },
  {
   "cell_type": "code",
   "execution_count": 42,
   "id": "fa83ea5a",
   "metadata": {},
   "outputs": [
    {
     "name": "stdout",
     "output_type": "stream",
     "text": [
      "Bob Smith, 1253617 was in the dept for 2.7 mins\n"
     ]
    }
   ],
   "source": [
    "patient_1.attend_ed(30)"
   ]
  },
  {
   "cell_type": "code",
   "execution_count": null,
   "id": "b975d096",
   "metadata": {},
   "outputs": [],
   "source": []
  },
  {
   "cell_type": "code",
   "execution_count": 77,
   "id": "f20a2dac",
   "metadata": {},
   "outputs": [],
   "source": [
    "#### Creating objects for external files"
   ]
  },
  {
   "cell_type": "code",
   "execution_count": 78,
   "id": "1471b7d4",
   "metadata": {},
   "outputs": [],
   "source": [
    "import pandas as pd"
   ]
  },
  {
   "cell_type": "code",
   "execution_count": 81,
   "id": "19b0395a",
   "metadata": {},
   "outputs": [
    {
     "data": {
      "text/html": [
       "<div>\n",
       "<style scoped>\n",
       "    .dataframe tbody tr th:only-of-type {\n",
       "        vertical-align: middle;\n",
       "    }\n",
       "\n",
       "    .dataframe tbody tr th {\n",
       "        vertical-align: top;\n",
       "    }\n",
       "\n",
       "    .dataframe thead th {\n",
       "        text-align: right;\n",
       "    }\n",
       "</style>\n",
       "<table border=\"1\" class=\"dataframe\">\n",
       "  <thead>\n",
       "    <tr style=\"text-align: right;\">\n",
       "      <th></th>\n",
       "      <th>country</th>\n",
       "      <th>pop</th>\n",
       "      <th>area</th>\n",
       "      <th>density</th>\n",
       "    </tr>\n",
       "  </thead>\n",
       "  <tbody>\n",
       "    <tr>\n",
       "      <th>0</th>\n",
       "      <td>Albania</td>\n",
       "      <td>2877797</td>\n",
       "      <td>27400</td>\n",
       "      <td>105</td>\n",
       "    </tr>\n",
       "    <tr>\n",
       "      <th>1</th>\n",
       "      <td>Algeria</td>\n",
       "      <td>43851044</td>\n",
       "      <td>2381740</td>\n",
       "      <td>18</td>\n",
       "    </tr>\n",
       "    <tr>\n",
       "      <th>2</th>\n",
       "      <td>Andorra</td>\n",
       "      <td>77265</td>\n",
       "      <td>470</td>\n",
       "      <td>164</td>\n",
       "    </tr>\n",
       "    <tr>\n",
       "      <th>3</th>\n",
       "      <td>Angola</td>\n",
       "      <td>32866272</td>\n",
       "      <td>1246700</td>\n",
       "      <td>26</td>\n",
       "    </tr>\n",
       "    <tr>\n",
       "      <th>4</th>\n",
       "      <td>Antigua and Barbuda</td>\n",
       "      <td>97929</td>\n",
       "      <td>440</td>\n",
       "      <td>223</td>\n",
       "    </tr>\n",
       "    <tr>\n",
       "      <th>...</th>\n",
       "      <td>...</td>\n",
       "      <td>...</td>\n",
       "      <td>...</td>\n",
       "      <td>...</td>\n",
       "    </tr>\n",
       "    <tr>\n",
       "      <th>189</th>\n",
       "      <td>Venezuela</td>\n",
       "      <td>28435940</td>\n",
       "      <td>882050</td>\n",
       "      <td>32</td>\n",
       "    </tr>\n",
       "    <tr>\n",
       "      <th>190</th>\n",
       "      <td>Vietnam</td>\n",
       "      <td>97338579</td>\n",
       "      <td>310070</td>\n",
       "      <td>314</td>\n",
       "    </tr>\n",
       "    <tr>\n",
       "      <th>191</th>\n",
       "      <td>Yemen</td>\n",
       "      <td>29825964</td>\n",
       "      <td>527970</td>\n",
       "      <td>56</td>\n",
       "    </tr>\n",
       "    <tr>\n",
       "      <th>192</th>\n",
       "      <td>Zambia</td>\n",
       "      <td>18383955</td>\n",
       "      <td>743390</td>\n",
       "      <td>25</td>\n",
       "    </tr>\n",
       "    <tr>\n",
       "      <th>193</th>\n",
       "      <td>Zimbabwe</td>\n",
       "      <td>14862924</td>\n",
       "      <td>386850</td>\n",
       "      <td>38</td>\n",
       "    </tr>\n",
       "  </tbody>\n",
       "</table>\n",
       "<p>194 rows × 4 columns</p>\n",
       "</div>"
      ],
      "text/plain": [
       "                 country       pop     area  density\n",
       "0                Albania   2877797    27400      105\n",
       "1                Algeria  43851044  2381740       18\n",
       "2                Andorra     77265      470      164\n",
       "3                 Angola  32866272  1246700       26\n",
       "4    Antigua and Barbuda     97929      440      223\n",
       "..                   ...       ...      ...      ...\n",
       "189            Venezuela  28435940   882050       32\n",
       "190              Vietnam  97338579   310070      314\n",
       "191                Yemen  29825964   527970       56\n",
       "192               Zambia  18383955   743390       25\n",
       "193             Zimbabwe  14862924   386850       38\n",
       "\n",
       "[194 rows x 4 columns]"
      ]
     },
     "execution_count": 81,
     "metadata": {},
     "output_type": "execute_result"
    }
   ],
   "source": [
    "df_country = pd.read_csv(\"country_details.csv\")\n",
    "df_country.columns=['country', 'pop', 'area', 'density']\n",
    "df_country"
   ]
  },
  {
   "cell_type": "code",
   "execution_count": 94,
   "id": "af7aab8e",
   "metadata": {},
   "outputs": [],
   "source": [
    "class Country:\n",
    "    def __init__(self, name, pop):\n",
    "        self.name = name\n",
    "        self.pop = pop\n",
    "#         self.area = area\n",
    "#         self.density = density\n",
    "        \n",
    "    def about(self):\n",
    "        print(f\"This is {self.name} with a population of {self.pop}\")"
   ]
  },
  {
   "cell_type": "code",
   "execution_count": 95,
   "id": "4bd69db5",
   "metadata": {},
   "outputs": [],
   "source": [
    "list_of_countries = []\n",
    "\n",
    "for row in df_country.iterrows():\n",
    "    c_name = row[1][0]\n",
    "    c_pop = row[1][1]\n",
    "    list_of_countries.append(Country(c_name, c_pop))"
   ]
  },
  {
   "cell_type": "code",
   "execution_count": 96,
   "id": "f9243cc3",
   "metadata": {},
   "outputs": [
    {
     "name": "stdout",
     "output_type": "stream",
     "text": [
      "This is Albania with a population of 2877797\n",
      "This is Algeria with a population of 43851044\n",
      "This is Andorra with a population of 77265\n",
      "This is Angola with a population of 32866272\n",
      "This is Antigua and Barbuda with a population of 97929\n",
      "This is Argentina with a population of 45195774\n",
      "This is Armenia with a population of 2963243\n",
      "This is Australia with a population of 25499884\n",
      "This is Austria with a population of 9006398\n",
      "This is Azerbaijan with a population of 10139177\n",
      "This is Bahamas with a population of 393244\n",
      "This is Bahrain with a population of 1701575\n",
      "This is Bangladesh with a population of 164689383\n",
      "This is Barbados with a population of 287375\n",
      "This is Belarus with a population of 9449323\n",
      "This is Belgium with a population of 11589623\n",
      "This is Belize with a population of 397628\n",
      "This is Benin with a population of 12123200\n",
      "This is Bhutan with a population of 771608\n",
      "This is Bolivia with a population of 11673021\n",
      "This is Bosnia and Herzegovina with a population of 3280819\n",
      "This is Botswana with a population of 2351627\n",
      "This is Brazil with a population of 212559417\n",
      "This is Brunei with a population of 437479\n",
      "This is Bulgaria with a population of 6948445\n",
      "This is Burkina Faso with a population of 20903273\n",
      "This is Burundi with a population of 11890784\n",
      "This is Côte d'Ivoire with a population of 26378274\n",
      "This is Cabo Verde with a population of 555987\n",
      "This is Cambodia with a population of 16718965\n",
      "This is Cameroon with a population of 26545863\n",
      "This is Canada with a population of 37742154\n",
      "This is Central African Republic with a population of 4829767\n",
      "This is Chad with a population of 16425864\n",
      "This is Chile with a population of 19116201\n",
      "This is China with a population of 1439323776\n",
      "This is Colombia with a population of 50882891\n",
      "This is Comoros with a population of 869601\n",
      "This is Congo (Congo-Brazzaville) with a population of 5518087\n",
      "This is Costa Rica with a population of 5094118\n",
      "This is Croatia with a population of 4105267\n",
      "This is Cuba with a population of 11326616\n",
      "This is Cyprus with a population of 1207359\n",
      "This is Czechia (Czech Republic) with a population of 10708981\n",
      "This is Democratic Republic of the Congo with a population of 89561403\n",
      "This is Denmark with a population of 5792202\n",
      "This is Djibouti with a population of 988000\n",
      "This is Dominica with a population of 71986\n",
      "This is Dominican Republic with a population of 10847910\n",
      "This is Ecuador with a population of 17643054\n",
      "This is Egypt with a population of 102334404\n",
      "This is El Salvador with a population of 6486205\n",
      "This is Equatorial Guinea with a population of 1402985\n",
      "This is Eritrea with a population of 3546421\n",
      "This is Estonia with a population of 1326535\n",
      "This is Eswatini (fmr. \"Swaziland\") with a population of 1160164\n",
      "This is Ethiopia with a population of 114963588\n",
      "This is Fiji with a population of 896445\n",
      "This is Finland with a population of 5540720\n",
      "This is France with a population of 65273511\n",
      "This is Gabon with a population of 2225734\n",
      "This is Gambia with a population of 2416668\n",
      "This is Georgia with a population of 3989167\n",
      "This is Germany with a population of 83783942\n",
      "This is Ghana with a population of 31072940\n",
      "This is Greece with a population of 10423054\n",
      "This is Grenada with a population of 112523\n",
      "This is Guatemala with a population of 17915568\n",
      "This is Guinea with a population of 13132795\n",
      "This is Guinea-Bissau with a population of 1968001\n",
      "This is Guyana with a population of 786552\n",
      "This is Haiti with a population of 11402528\n",
      "This is Holy See with a population of 801\n",
      "This is Honduras with a population of 9904607\n",
      "This is Hungary with a population of 9660351\n",
      "This is Iceland with a population of 341243\n",
      "This is India with a population of 0\n",
      "This is Indonesia with a population of 273523615\n",
      "This is Iran with a population of 83992949\n",
      "This is Iraq with a population of 40222493\n",
      "This is Ireland with a population of 4937786\n",
      "This is Israel with a population of 8655535\n",
      "This is Italy with a population of 60461826\n",
      "This is Jamaica with a population of 2961167\n",
      "This is Japan with a population of 126476461\n",
      "This is Jordan with a population of 10203134\n",
      "This is Kazakhstan with a population of 18776707\n",
      "This is Kenya with a population of 53771296\n",
      "This is Kiribati with a population of 119449\n",
      "This is Kuwait with a population of 4270571\n",
      "This is Kyrgyzstan with a population of 6524195\n",
      "This is Laos with a population of 7275560\n",
      "This is Latvia with a population of 1886198\n",
      "This is Lebanon with a population of 6825445\n",
      "This is Lesotho with a population of 2142249\n",
      "This is Liberia with a population of 5057681\n",
      "This is Libya with a population of 6871292\n",
      "This is Liechtenstein with a population of 38128\n",
      "This is Lithuania with a population of 2722289\n",
      "This is Luxembourg with a population of 625978\n",
      "This is Madagascar with a population of 27691018\n",
      "This is Malawi with a population of 19129952\n",
      "This is Malaysia with a population of 32365999\n",
      "This is Maldives with a population of 540544\n",
      "This is Mali with a population of 20250833\n",
      "This is Malta with a population of 441543\n",
      "This is Marshall Islands with a population of 59190\n",
      "This is Mauritania with a population of 4649658\n",
      "This is Mauritius with a population of 1271768\n",
      "This is Mexico with a population of 128932753\n",
      "This is Micronesia with a population of 548914\n",
      "This is Moldova with a population of 4033963\n",
      "This is Monaco with a population of 39242\n",
      "This is Mongolia with a population of 3278290\n",
      "This is Montenegro with a population of 628066\n",
      "This is Morocco with a population of 36910560\n",
      "This is Mozambique with a population of 31255435\n",
      "This is Myanmar (formerly Burma) with a population of 54409800\n",
      "This is Namibia with a population of 2540905\n",
      "This is Nauru with a population of 10824\n",
      "This is Nepal with a population of 29136808\n",
      "This is Netherlands with a population of 17134872\n",
      "This is New Zealand with a population of 4822233\n",
      "This is Nicaragua with a population of 6624554\n",
      "This is Niger with a population of 24206644\n",
      "This is Nigeria with a population of 206139589\n",
      "This is North Korea with a population of 25778816\n",
      "This is North Macedonia with a population of 2083374\n",
      "This is Norway with a population of 5421241\n",
      "This is Oman with a population of 5106626\n",
      "This is Pakistan with a population of 220892340\n",
      "This is Palau with a population of 18094\n",
      "This is Palestine State with a population of 5101414\n",
      "This is Panama with a population of 4314767\n",
      "This is Papua New Guinea with a population of 8947024\n",
      "This is Paraguay with a population of 7132538\n",
      "This is Peru with a population of 32971854\n",
      "This is Philippines with a population of 109581078\n",
      "This is Poland with a population of 37846611\n",
      "This is Portugal with a population of 10196709\n",
      "This is Qatar with a population of 2881053\n",
      "This is Romania with a population of 19237691\n",
      "This is Russia with a population of 145934462\n",
      "This is Rwanda with a population of 12952218\n",
      "This is Saint Kitts and Nevis with a population of 53199\n",
      "This is Saint Lucia with a population of 183627\n",
      "This is Saint Vincent and the Grenadines with a population of 110940\n",
      "This is Samoa with a population of 198414\n",
      "This is San Marino with a population of 33931\n",
      "This is Sao Tome and Principe with a population of 219159\n",
      "This is Saudi Arabia with a population of 34813871\n",
      "This is Senegal with a population of 16743927\n",
      "This is Serbia with a population of 8737371\n",
      "This is Seychelles with a population of 98347\n",
      "This is Sierra Leone with a population of 7976983\n",
      "This is Singapore with a population of 5850342\n",
      "This is Slovakia with a population of 5459642\n",
      "This is Slovenia with a population of 2078938\n",
      "This is Solomon Islands with a population of 686884\n",
      "This is Somalia with a population of 15893222\n",
      "This is South Africa with a population of 59308690\n",
      "This is South Korea with a population of 51269185\n",
      "This is South Sudan with a population of 11193725\n",
      "This is Spain with a population of 46754778\n",
      "This is Sri Lanka with a population of 21413249\n",
      "This is Sudan with a population of 43849260\n",
      "This is Suriname with a population of 586632\n",
      "This is Sweden with a population of 10099265\n",
      "This is Switzerland with a population of 8654622\n",
      "This is Syria with a population of 17500658\n",
      "This is Tajikistan with a population of 9537645\n",
      "This is Tanzania with a population of 59734218\n",
      "This is Thailand with a population of 69799978\n",
      "This is Timor-Leste with a population of 1318445\n",
      "This is Togo with a population of 8278724\n",
      "This is Tonga with a population of 105695\n",
      "This is Trinidad and Tobago with a population of 1399488\n",
      "This is Tunisia with a population of 11818619\n",
      "This is Turkey with a population of 84339067\n",
      "This is Turkmenistan with a population of 6031200\n",
      "This is Tuvalu with a population of 11792\n",
      "This is Uganda with a population of 45741007\n",
      "This is Ukraine with a population of 43733762\n",
      "This is United Arab Emirates with a population of 9890402\n",
      "This is United Kingdom with a population of 67886011\n",
      "This is United States of America with a population of 331002651\n",
      "This is Uruguay with a population of 3473730\n",
      "This is Uzbekistan with a population of 33469203\n",
      "This is Vanuatu with a population of 307145\n",
      "This is Venezuela with a population of 28435940\n",
      "This is Vietnam with a population of 97338579\n",
      "This is Yemen with a population of 29825964\n",
      "This is Zambia with a population of 18383955\n",
      "This is Zimbabwe with a population of 14862924\n"
     ]
    }
   ],
   "source": [
    "for c in list_of_countries:\n",
    "    c.about()"
   ]
  },
  {
   "cell_type": "code",
   "execution_count": 97,
   "id": "1c1e95af",
   "metadata": {},
   "outputs": [
    {
     "data": {
      "text/plain": [
       "194"
      ]
     },
     "execution_count": 97,
     "metadata": {},
     "output_type": "execute_result"
    }
   ],
   "source": [
    "len(list_of_countries)"
   ]
  },
  {
   "cell_type": "code",
   "execution_count": 101,
   "id": "da8fe964",
   "metadata": {},
   "outputs": [],
   "source": [
    "class Vehicle:\n",
    "    def __init__(self, number_of_wheels, capacity, owner):\n",
    "        self.number_of_wheels = number_of_wheels\n",
    "        self.capacity = capacity\n",
    "        self.owner = owner\n",
    "        \n",
    "    def drive(self, speed):\n",
    "        print (f\"{self.owner} is now driving at {speed}mph.\")\n",
    "\n",
    "# To create a new Child class, we simply define a class in the normal way,\n",
    "# but feed the Parent class in as an input\n",
    "class Ambulance(Vehicle):\n",
    "    # We can use the super() function to refer to the Parent class.  Here,\n",
    "    # we declare our Ambulance constructor with a new attribute - siren_on - \n",
    "    # and then use super().__init__ to call the Parent constructor so we don't\n",
    "    # have to repeat all of that code.  We can then just add the new bit.\n",
    "    def __init__(self, number_of_wheels, capacity, owner, siren_on):\n",
    "        super().__init__(number_of_wheels, capacity, owner)\n",
    "        self.siren_on = siren_on\n",
    "        \n",
    "    # We can set up new methods in the normal way\n",
    "    def turn_on_siren(self):\n",
    "        self.siren_on = True\n",
    "        print (\"Siren turned on\")\n",
    "    \n",
    "    def turn_off_siren(self):\n",
    "        self.siren_on = False\n",
    "        print (\"Siren turned off\")\n",
    "        \n",
    "#     # And if we want to overwrite an existing method we can just give it the\n",
    "#     # same name as the one in our Parent class\n",
    "    def drive(self, speed):\n",
    "        print (f\"WE'RE GOING REALLY READLLY FAST AT  {speed}mph.\")\n",
    "        \n",
    "\n"
   ]
  },
  {
   "cell_type": "code",
   "execution_count": 102,
   "id": "413f6c12",
   "metadata": {},
   "outputs": [
    {
     "name": "stdout",
     "output_type": "stream",
     "text": [
      "Siren turned on\n"
     ]
    }
   ],
   "source": [
    "my_ambulance1 = Ambulance(4, 3, \"Dan\", False)\n",
    "my_ambulance1.turn_on_siren()\n"
   ]
  },
  {
   "cell_type": "code",
   "execution_count": 103,
   "id": "255d200b",
   "metadata": {},
   "outputs": [
    {
     "name": "stdout",
     "output_type": "stream",
     "text": [
      "WE'RE GOING REALLY READLLY FAST AT  70mph.\n"
     ]
    }
   ],
   "source": [
    "my_ambulance1.drive(70)"
   ]
  },
  {
   "cell_type": "code",
   "execution_count": 104,
   "id": "47f46252",
   "metadata": {},
   "outputs": [
    {
     "data": {
      "text/plain": [
       "9"
      ]
     },
     "execution_count": 104,
     "metadata": {},
     "output_type": "execute_result"
    }
   ],
   "source": [
    "import Penchord_Wizardry\n",
    "\n",
    "   \n",
    "Penchord_Wizardry.ecs_custom_function(3)"
   ]
  },
  {
   "cell_type": "code",
   "execution_count": 105,
   "id": "0ebe76f6",
   "metadata": {},
   "outputs": [],
   "source": [
    "### MatPlotLib"
   ]
  },
  {
   "cell_type": "code",
   "execution_count": 113,
   "id": "66943137",
   "metadata": {},
   "outputs": [
    {
     "name": "stderr",
     "output_type": "stream",
     "text": [
      "/tmp/ipykernel_15223/1910754759.py:19: UserWarning: Matplotlib is currently using module://matplotlib_inline.backend_inline, which is a non-GUI backend, so cannot show the figure.\n",
      "  figure_1.show()\n"
     ]
    },
    {
     "data": {
      "image/png": "[encoded data removed]",
      "text/plain": [
       "<Figure size 640x480 with 1 Axes>"
      ]
     },
     "metadata": {},
     "output_type": "display_data"
    }
   ],
   "source": [
    "import matplotlib.pyplot as plt # provides matlab-style plotting interface\n",
    "\n",
    "# Data to plot\n",
    "x = [1,2,3,4,5,6,7,8,9,10]\n",
    "y = [3,7,2,1,4,8,1,2,3,12]\n",
    "\n",
    "# Create a figure object and an axes object, and add the axes object as a\n",
    "# subplot of the figure object\n",
    "figure_1, ax = plt.subplots()\n",
    "\n",
    "# Set x axis and y axis labels\n",
    "ax.set_xlabel('Time (Mins)')\n",
    "ax.set_ylabel('Number of patients')\n",
    "\n",
    "# Plot our data (x and y here)\n",
    "ax.plot(x, y, linestyle=\"--\", color='red')\n",
    "\n",
    "# Show the figure\n",
    "figure_1.show()\n"
   ]
  },
  {
   "cell_type": "code",
   "execution_count": 120,
   "id": "6ffb0f6c",
   "metadata": {},
   "outputs": [
    {
     "name": "stderr",
     "output_type": "stream",
     "text": [
      "No artists with labels found to put in legend.  Note that artists whose label start with an underscore are ignored when legend() is called with no argument.\n",
      "/tmp/ipykernel_15223/1431666862.py:24: UserWarning: Matplotlib is currently using module://matplotlib_inline.backend_inline, which is a non-GUI backend, so cannot show the figure.\n",
      "  figure_1.show();\n"
     ]
    },
    {
     "data": {
      "image/png": "[encoded data removed]",
      "text/plain": [
       "<Figure size 640x480 with 1 Axes>"
      ]
     },
     "metadata": {},
     "output_type": "display_data"
    }
   ],
   "source": [
    "import matplotlib.pyplot as plt # provides matlab-style plotting interface\n",
    "\n",
    "# Data to plot\n",
    "time = [1,2,3,4,5,6,7,8,9,10]\n",
    "\n",
    "patients = [3,7,2,1,4,8,1,2,3,12]\n",
    "doctors = [2,0,1,2,1,1,1,2,0,1]\n",
    "\n",
    "# Create a figure object and an axes object, and add the axes object as a\n",
    "# subplot of the figure object\n",
    "figure_1, ax = plt.subplots()\n",
    "\n",
    "# Set x axis and y axis labels\n",
    "ax.set_xlabel('Time')\n",
    "ax.set_ylabel('Number in Clinic')\n",
    "\n",
    "ax.legend(loc=\"upper left\")\n",
    "\n",
    "# Plot our data, and set each dataset we plot to a different colour / style\n",
    "ax.plot(time, patients, color=\"blue\", linestyle=\"-\") # Plot patients over time\n",
    "ax.plot(time, doctors, color=\"red\", linestyle=\":\") # Plot doctors over time\n",
    "\n",
    "# Show the figure\n",
    "figure_1.show();"
   ]
  },
  {
   "cell_type": "code",
   "execution_count": 116,
   "id": "df050e18",
   "metadata": {},
   "outputs": [
    {
     "name": "stderr",
     "output_type": "stream",
     "text": [
      "/tmp/ipykernel_15223/2525031370.py:2: UserWarning: Matplotlib is currently using module://matplotlib_inline.backend_inline, which is a non-GUI backend, so cannot show the figure.\n",
      "  figure_1.show();\n"
     ]
    }
   ],
   "source": []
  },
  {
   "cell_type": "code",
   "execution_count": 121,
   "id": "c1c8dc94",
   "metadata": {},
   "outputs": [],
   "source": [
    "#### Country Data"
   ]
  },
  {
   "cell_type": "code",
   "execution_count": 122,
   "id": "28b8b653",
   "metadata": {
    "scrolled": true
   },
   "outputs": [
    {
     "data": {
      "text/html": [
       "<div>\n",
       "<style scoped>\n",
       "    .dataframe tbody tr th:only-of-type {\n",
       "        vertical-align: middle;\n",
       "    }\n",
       "\n",
       "    .dataframe tbody tr th {\n",
       "        vertical-align: top;\n",
       "    }\n",
       "\n",
       "    .dataframe thead th {\n",
       "        text-align: right;\n",
       "    }\n",
       "</style>\n",
       "<table border=\"1\" class=\"dataframe\">\n",
       "  <thead>\n",
       "    <tr style=\"text-align: right;\">\n",
       "      <th></th>\n",
       "      <th>country</th>\n",
       "      <th>pop</th>\n",
       "      <th>area</th>\n",
       "      <th>density</th>\n",
       "    </tr>\n",
       "  </thead>\n",
       "  <tbody>\n",
       "    <tr>\n",
       "      <th>0</th>\n",
       "      <td>Albania</td>\n",
       "      <td>2877797</td>\n",
       "      <td>27400</td>\n",
       "      <td>105</td>\n",
       "    </tr>\n",
       "    <tr>\n",
       "      <th>1</th>\n",
       "      <td>Algeria</td>\n",
       "      <td>43851044</td>\n",
       "      <td>2381740</td>\n",
       "      <td>18</td>\n",
       "    </tr>\n",
       "    <tr>\n",
       "      <th>2</th>\n",
       "      <td>Andorra</td>\n",
       "      <td>77265</td>\n",
       "      <td>470</td>\n",
       "      <td>164</td>\n",
       "    </tr>\n",
       "    <tr>\n",
       "      <th>3</th>\n",
       "      <td>Angola</td>\n",
       "      <td>32866272</td>\n",
       "      <td>1246700</td>\n",
       "      <td>26</td>\n",
       "    </tr>\n",
       "    <tr>\n",
       "      <th>4</th>\n",
       "      <td>Antigua and Barbuda</td>\n",
       "      <td>97929</td>\n",
       "      <td>440</td>\n",
       "      <td>223</td>\n",
       "    </tr>\n",
       "  </tbody>\n",
       "</table>\n",
       "</div>"
      ],
      "text/plain": [
       "               country       pop     area  density\n",
       "0              Albania   2877797    27400      105\n",
       "1              Algeria  43851044  2381740       18\n",
       "2              Andorra     77265      470      164\n",
       "3               Angola  32866272  1246700       26\n",
       "4  Antigua and Barbuda     97929      440      223"
      ]
     },
     "execution_count": 122,
     "metadata": {},
     "output_type": "execute_result"
    }
   ],
   "source": [
    "df_country.head()"
   ]
  },
  {
   "cell_type": "code",
   "execution_count": 124,
   "id": "f6546691",
   "metadata": {},
   "outputs": [
    {
     "data": {
      "text/plain": [
       "['Albania', 'Algeria', 'Andorra', 'Angola', 'Antigua and Barbuda']"
      ]
     },
     "execution_count": 124,
     "metadata": {},
     "output_type": "execute_result"
    }
   ],
   "source": [
    "[x for x in df_country['country'].head()]"
   ]
  },
  {
   "cell_type": "code",
   "execution_count": 125,
   "id": "cea4e881",
   "metadata": {},
   "outputs": [
    {
     "data": {
      "text/plain": [
       "[2877797, 43851044, 77265, 32866272, 97929]"
      ]
     },
     "execution_count": 125,
     "metadata": {},
     "output_type": "execute_result"
    }
   ],
   "source": [
    "[x for x in df_country['pop'].head()]"
   ]
  },
  {
   "cell_type": "code",
   "execution_count": 126,
   "id": "22f0a24d",
   "metadata": {},
   "outputs": [
    {
     "name": "stderr",
     "output_type": "stream",
     "text": [
      "/tmp/ipykernel_15223/1227109430.py:14: UserWarning: Matplotlib is currently using module://matplotlib_inline.backend_inline, which is a non-GUI backend, so cannot show the figure.\n",
      "  figure_1.show();\n"
     ]
    },
    {
     "data": {
      "image/png": "[encoded data removed]",
      "text/plain": [
       "<Figure size 640x480 with 1 Axes>"
      ]
     },
     "metadata": {},
     "output_type": "display_data"
    }
   ],
   "source": [
    "import matplotlib.pyplot as plt # provides matlab-style plotting interface\n",
    "\n",
    "# Data to plot\n",
    "hsma_trainers = [x for x in df_country['country'].head()]\n",
    "hours_of_teaching = [x for x in df_country['pop'].head()]\n",
    "\n",
    "figure_1, ax = plt.subplots()\n",
    "\n",
    "ax.set_xlabel(\"Country\")\n",
    "ax.set_ylabel(\"Popn\")\n",
    "\n",
    "ax.bar(hsma_trainers, hours_of_teaching)\n",
    "\n",
    "figure_1.show();\n"
   ]
  },
  {
   "cell_type": "markdown",
   "id": "cc9e6f13",
   "metadata": {},
   "source": [
    "### Exercise 3"
   ]
  },
  {
   "cell_type": "markdown",
   "id": "b6942e48",
   "metadata": {},
   "source": [
    "1. Write code that plots a line plot comparison of Hospital A and B mean ED attendances per day of week (the numbers in the table below).  Use different colours / styles and a legend to clearly differentiate the two lines on the plot, and label each axis appropriately.  You should also force start the y-axis from 0 using the set_ylim() method of your axes object and passing ymin=0 as a parameter value to this method.  IMPORTANT : You MUST do this AFTER you plot the data, not before, but before you show the figure, otherwise the y-axis won’t resize to the data."
   ]
  },
  {
   "cell_type": "code",
   "execution_count": 140,
   "id": "cec9f8d3",
   "metadata": {},
   "outputs": [
    {
     "data": {
      "text/plain": [
       "(0.0, 389.1)"
      ]
     },
     "execution_count": 140,
     "metadata": {},
     "output_type": "execute_result"
    },
    {
     "data": {
      "image/png": "[encoded data removed]",
      "text/plain": [
       "<Figure size 640x480 with 1 Axes>"
      ]
     },
     "metadata": {},
     "output_type": "display_data"
    }
   ],
   "source": [
    "import matplotlib.pyplot as plt\n",
    "\n",
    "day_of_week = [\"Monday\", \"Tuesday\", \"Wednesday\", \"Thursday\", \"Friday\", \n",
    "               \"Saturday\", \"Sunday\"]\n",
    "hospital_a_ed_attendances = [242,180,156,191,231,378,345]\n",
    "hospital_b_ed_attendances = [310,290,317,351,341,261,295]\n",
    "\n",
    "fig1, ax1 = plt.subplots()\n",
    "\n",
    "ax1.set_xlabel(\"Day of Week\")\n",
    "ax1.set_ylabel(\"Mean ED Attends\")\n",
    "\n",
    "ax1.plot(day_of_week, hospital_a_ed_attendances, c='green', linestyle=\":\", label=\"Hosp A\")\n",
    "ax1.plot(day_of_week, hospital_b_ed_attendances, c='red', linestyle=\"--\", label=\"Hosp B\")\n",
    "\n",
    "ax1.legend(loc=\"lower right\")\n",
    "\n",
    "ax1.set_ylim(ymin=0)"
   ]
  },
  {
   "cell_type": "code",
   "execution_count": 142,
   "id": "b14321e7",
   "metadata": {},
   "outputs": [
    {
     "data": {
      "text/plain": [
       "[552, 470, 473, 542, 572, 639, 640]"
      ]
     },
     "execution_count": 142,
     "metadata": {},
     "output_type": "execute_result"
    }
   ],
   "source": [
    "total_ed_attends = []\n",
    "\n",
    "for i in range(len(hospital_a_ed_attendances)):\n",
    "    total_ed_attends.append(hospital_a_ed_attendances[i] + \n",
    "                           hospital_b_ed_attendances[i])\n",
    "    \n",
    "total_ed_attends    "
   ]
  },
  {
   "cell_type": "code",
   "execution_count": 143,
   "id": "6ce9e3c3",
   "metadata": {},
   "outputs": [
    {
     "data": {
      "text/plain": [
       "[242, 180, 156, 191, 231, 378, 345]"
      ]
     },
     "execution_count": 143,
     "metadata": {},
     "output_type": "execute_result"
    }
   ],
   "source": [
    "hospital_a_ed_attendances"
   ]
  },
  {
   "cell_type": "code",
   "execution_count": 144,
   "id": "cc84d871",
   "metadata": {},
   "outputs": [
    {
     "data": {
      "text/plain": [
       "[310, 290, 317, 351, 341, 261, 295]"
      ]
     },
     "execution_count": 144,
     "metadata": {},
     "output_type": "execute_result"
    }
   ],
   "source": [
    "hospital_b_ed_attendances"
   ]
  },
  {
   "cell_type": "code",
   "execution_count": 166,
   "id": "6be84df4",
   "metadata": {},
   "outputs": [
    {
     "data": {
      "text/plain": [
       "<BarContainer object of 7 artists>"
      ]
     },
     "execution_count": 166,
     "metadata": {},
     "output_type": "execute_result"
    },
    {
     "data": {
      "image/png": "[encoded data removed]",
      "text/plain": [
       "<Figure size 1000x500 with 1 Axes>"
      ]
     },
     "metadata": {},
     "output_type": "display_data"
    }
   ],
   "source": [
    "fig2, ax_2 = plt.subplots()\n",
    "\n",
    "fig2.set_figheight(5)\n",
    "fig2.set_figwidth(10)\n",
    "\n",
    "ax_2.set_xlabel(\"Day of Week\")\n",
    "ax_2.tick_params(axis=\"x\", labelsize=15)\n",
    "\n",
    "ax_2.set_ylabel(\"Total Mean Attendances Across Both Hospitals\")\n",
    "\n",
    "ax_2.bar(day_of_week, total_ed_attends, color='green')"
   ]
  },
  {
   "cell_type": "code",
   "execution_count": 163,
   "id": "ccb698bf",
   "metadata": {},
   "outputs": [
    {
     "ename": "ValueError",
     "evalue": "Could not parse font string: 'xx-large'\nExpected end of text, found '-'  (at char 2), (line:1, col:3)",
     "output_type": "error",
     "traceback": [
      "\u001b[0;31m---------------------------------------------------------------------------\u001b[0m",
      "\u001b[0;31mParseException\u001b[0m                            Traceback (most recent call last)",
      "\u001b[0;32m~/miniconda3/lib/python3.9/site-packages/matplotlib/_fontconfig_pattern.py\u001b[0m in \u001b[0;36mparse\u001b[0;34m(self, pattern)\u001b[0m\n\u001b[1;32m    126\u001b[0m         \u001b[0;32mtry\u001b[0m\u001b[0;34m:\u001b[0m\u001b[0;34m\u001b[0m\u001b[0;34m\u001b[0m\u001b[0m\n\u001b[0;32m--> 127\u001b[0;31m             \u001b[0mself\u001b[0m\u001b[0;34m.\u001b[0m\u001b[0m_parser\u001b[0m\u001b[0;34m.\u001b[0m\u001b[0mparseString\u001b[0m\u001b[0;34m(\u001b[0m\u001b[0mpattern\u001b[0m\u001b[0;34m)\u001b[0m\u001b[0;34m\u001b[0m\u001b[0;34m\u001b[0m\u001b[0m\n\u001b[0m\u001b[1;32m    128\u001b[0m         \u001b[0;32mexcept\u001b[0m \u001b[0mself\u001b[0m\u001b[0;34m.\u001b[0m\u001b[0mParseException\u001b[0m \u001b[0;32mas\u001b[0m \u001b[0me\u001b[0m\u001b[0;34m:\u001b[0m\u001b[0;34m\u001b[0m\u001b[0;34m\u001b[0m\u001b[0m\n",
      "\u001b[0;32m~/miniconda3/lib/python3.9/site-packages/pyparsing/core.py\u001b[0m in \u001b[0;36mparse_string\u001b[0;34m(self, instring, parse_all, parseAll)\u001b[0m\n\u001b[1;32m   1140\u001b[0m                 \u001b[0;31m# catch and re-raise exception from here, clearing out pyparsing internal stack trace\u001b[0m\u001b[0;34m\u001b[0m\u001b[0;34m\u001b[0m\u001b[0m\n\u001b[0;32m-> 1141\u001b[0;31m                 \u001b[0;32mraise\u001b[0m \u001b[0mexc\u001b[0m\u001b[0;34m.\u001b[0m\u001b[0mwith_traceback\u001b[0m\u001b[0;34m(\u001b[0m\u001b[0;32mNone\u001b[0m\u001b[0;34m)\u001b[0m\u001b[0;34m\u001b[0m\u001b[0;34m\u001b[0m\u001b[0m\n\u001b[0m\u001b[1;32m   1142\u001b[0m         \u001b[0;32melse\u001b[0m\u001b[0;34m:\u001b[0m\u001b[0;34m\u001b[0m\u001b[0;34m\u001b[0m\u001b[0m\n",
      "\u001b[0;31mParseException\u001b[0m: Expected end of text, found '-'  (at char 2), (line:1, col:3)",
      "\nThe above exception was the direct cause of the following exception:\n",
      "\u001b[0;31mValueError\u001b[0m                                Traceback (most recent call last)",
      "\u001b[0;32m/tmp/ipykernel_15223/2866764434.py\u001b[0m in \u001b[0;36m<module>\u001b[0;34m\u001b[0m\n\u001b[1;32m     11\u001b[0m \u001b[0max\u001b[0m\u001b[0;34m.\u001b[0m\u001b[0mplot\u001b[0m\u001b[0;34m(\u001b[0m\u001b[0mz\u001b[0m\u001b[0;34m,\u001b[0m \u001b[0mcolor\u001b[0m\u001b[0;34m=\u001b[0m\u001b[0;34m'black'\u001b[0m\u001b[0;34m,\u001b[0m \u001b[0mlabel\u001b[0m\u001b[0;34m=\u001b[0m\u001b[0;34m'Cosine wave'\u001b[0m\u001b[0;34m)\u001b[0m\u001b[0;34m\u001b[0m\u001b[0;34m\u001b[0m\u001b[0m\n\u001b[1;32m     12\u001b[0m \u001b[0max\u001b[0m\u001b[0;34m.\u001b[0m\u001b[0mset_title\u001b[0m\u001b[0;34m(\u001b[0m\u001b[0;34m'Sine and cosine waves'\u001b[0m\u001b[0;34m,\u001b[0m \u001b[0mfontsize\u001b[0m\u001b[0;34m=\u001b[0m\u001b[0;36m8\u001b[0m\u001b[0;34m)\u001b[0m\u001b[0;34m\u001b[0m\u001b[0;34m\u001b[0m\u001b[0m\n\u001b[0;32m---> 13\u001b[0;31m \u001b[0max\u001b[0m\u001b[0;34m.\u001b[0m\u001b[0mtext\u001b[0m\u001b[0;34m(\u001b[0m\u001b[0;36m1\u001b[0m\u001b[0;34m,\u001b[0m \u001b[0;36m1\u001b[0m\u001b[0;34m,\u001b[0m \u001b[0;34m\"hello world\"\u001b[0m\u001b[0;34m,\u001b[0m \u001b[0mfontproperties\u001b[0m \u001b[0;34m=\u001b[0m \u001b[0;34m'xx-large'\u001b[0m\u001b[0;34m)\u001b[0m\u001b[0;34m\u001b[0m\u001b[0;34m\u001b[0m\u001b[0m\n\u001b[0m\u001b[1;32m     14\u001b[0m \u001b[0max\u001b[0m\u001b[0;34m.\u001b[0m\u001b[0mset_xlabel\u001b[0m\u001b[0;34m(\u001b[0m\u001b[0;34m'Time'\u001b[0m\u001b[0;34m,\u001b[0m \u001b[0mfontsize\u001b[0m\u001b[0;34m=\u001b[0m\u001b[0;36m8\u001b[0m\u001b[0;34m)\u001b[0m\u001b[0;34m\u001b[0m\u001b[0;34m\u001b[0m\u001b[0m\n\u001b[1;32m     15\u001b[0m \u001b[0max\u001b[0m\u001b[0;34m.\u001b[0m\u001b[0mset_ylabel\u001b[0m\u001b[0;34m(\u001b[0m\u001b[0;34m'Intensity'\u001b[0m\u001b[0;34m,\u001b[0m \u001b[0mfontsize\u001b[0m\u001b[0;34m=\u001b[0m\u001b[0;36m8\u001b[0m\u001b[0;34m)\u001b[0m\u001b[0;34m\u001b[0m\u001b[0;34m\u001b[0m\u001b[0m\n",
      "\u001b[0;32m~/miniconda3/lib/python3.9/site-packages/matplotlib/axes/_axes.py\u001b[0m in \u001b[0;36mtext\u001b[0;34m(self, x, y, s, fontdict, **kwargs)\u001b[0m\n\u001b[1;32m    676\u001b[0m             \u001b[0;34m**\u001b[0m\u001b[0mkwargs\u001b[0m\u001b[0;34m,\u001b[0m\u001b[0;34m\u001b[0m\u001b[0;34m\u001b[0m\u001b[0m\n\u001b[1;32m    677\u001b[0m         }\n\u001b[0;32m--> 678\u001b[0;31m         \u001b[0mt\u001b[0m \u001b[0;34m=\u001b[0m \u001b[0mmtext\u001b[0m\u001b[0;34m.\u001b[0m\u001b[0mText\u001b[0m\u001b[0;34m(\u001b[0m\u001b[0mx\u001b[0m\u001b[0;34m,\u001b[0m \u001b[0my\u001b[0m\u001b[0;34m,\u001b[0m \u001b[0mtext\u001b[0m\u001b[0;34m=\u001b[0m\u001b[0ms\u001b[0m\u001b[0;34m,\u001b[0m \u001b[0;34m**\u001b[0m\u001b[0meffective_kwargs\u001b[0m\u001b[0;34m)\u001b[0m\u001b[0;34m\u001b[0m\u001b[0;34m\u001b[0m\u001b[0m\n\u001b[0m\u001b[1;32m    679\u001b[0m         \u001b[0mt\u001b[0m\u001b[0;34m.\u001b[0m\u001b[0mset_clip_path\u001b[0m\u001b[0;34m(\u001b[0m\u001b[0mself\u001b[0m\u001b[0;34m.\u001b[0m\u001b[0mpatch\u001b[0m\u001b[0;34m)\u001b[0m\u001b[0;34m\u001b[0m\u001b[0;34m\u001b[0m\u001b[0m\n\u001b[1;32m    680\u001b[0m         \u001b[0mself\u001b[0m\u001b[0;34m.\u001b[0m\u001b[0m_add_text\u001b[0m\u001b[0;34m(\u001b[0m\u001b[0mt\u001b[0m\u001b[0;34m)\u001b[0m\u001b[0;34m\u001b[0m\u001b[0;34m\u001b[0m\u001b[0m\n",
      "\u001b[0;32m~/miniconda3/lib/python3.9/site-packages/matplotlib/_api/deprecation.py\u001b[0m in \u001b[0;36mwrapper\u001b[0;34m(*args, **kwargs)\u001b[0m\n\u001b[1;32m    452\u001b[0m                 \u001b[0;34m\"parameter will become keyword-only %(removal)s.\"\u001b[0m\u001b[0;34m,\u001b[0m\u001b[0;34m\u001b[0m\u001b[0;34m\u001b[0m\u001b[0m\n\u001b[1;32m    453\u001b[0m                 name=name, obj_type=f\"parameter of {func.__name__}()\")\n\u001b[0;32m--> 454\u001b[0;31m         \u001b[0;32mreturn\u001b[0m \u001b[0mfunc\u001b[0m\u001b[0;34m(\u001b[0m\u001b[0;34m*\u001b[0m\u001b[0margs\u001b[0m\u001b[0;34m,\u001b[0m \u001b[0;34m**\u001b[0m\u001b[0mkwargs\u001b[0m\u001b[0;34m)\u001b[0m\u001b[0;34m\u001b[0m\u001b[0;34m\u001b[0m\u001b[0m\n\u001b[0m\u001b[1;32m    455\u001b[0m \u001b[0;34m\u001b[0m\u001b[0m\n\u001b[1;32m    456\u001b[0m     \u001b[0;31m# Don't modify *func*'s signature, as boilerplate.py needs it.\u001b[0m\u001b[0;34m\u001b[0m\u001b[0;34m\u001b[0m\u001b[0m\n",
      "\u001b[0;32m~/miniconda3/lib/python3.9/site-packages/matplotlib/text.py\u001b[0m in \u001b[0;36m__init__\u001b[0;34m(self, x, y, text, color, verticalalignment, horizontalalignment, multialignment, fontproperties, rotation, linespacing, rotation_mode, usetex, wrap, transform_rotates_text, parse_math, **kwargs)\u001b[0m\n\u001b[1;32m    168\u001b[0m         self.set_color(\n\u001b[1;32m    169\u001b[0m             color if color is not None else mpl.rcParams[\"text.color\"])\n\u001b[0;32m--> 170\u001b[0;31m         \u001b[0mself\u001b[0m\u001b[0;34m.\u001b[0m\u001b[0mset_fontproperties\u001b[0m\u001b[0;34m(\u001b[0m\u001b[0mfontproperties\u001b[0m\u001b[0;34m)\u001b[0m\u001b[0;34m\u001b[0m\u001b[0;34m\u001b[0m\u001b[0m\n\u001b[0m\u001b[1;32m    171\u001b[0m         \u001b[0mself\u001b[0m\u001b[0;34m.\u001b[0m\u001b[0mset_usetex\u001b[0m\u001b[0;34m(\u001b[0m\u001b[0musetex\u001b[0m\u001b[0;34m)\u001b[0m\u001b[0;34m\u001b[0m\u001b[0;34m\u001b[0m\u001b[0m\n\u001b[1;32m    172\u001b[0m         self.set_parse_math(parse_math if parse_math is not None else\n",
      "\u001b[0;32m~/miniconda3/lib/python3.9/site-packages/matplotlib/text.py\u001b[0m in \u001b[0;36mset_fontproperties\u001b[0;34m(self, fp)\u001b[0m\n\u001b[1;32m   1278\u001b[0m             \u001b[0mabsolute\u001b[0m \u001b[0mpath\u001b[0m \u001b[0mto\u001b[0m \u001b[0ma\u001b[0m \u001b[0mfont\u001b[0m \u001b[0mfile\u001b[0m\u001b[0;34m.\u001b[0m\u001b[0;34m\u001b[0m\u001b[0;34m\u001b[0m\u001b[0m\n\u001b[1;32m   1279\u001b[0m         \"\"\"\n\u001b[0;32m-> 1280\u001b[0;31m         \u001b[0mself\u001b[0m\u001b[0;34m.\u001b[0m\u001b[0m_fontproperties\u001b[0m \u001b[0;34m=\u001b[0m \u001b[0mFontProperties\u001b[0m\u001b[0;34m.\u001b[0m\u001b[0m_from_any\u001b[0m\u001b[0;34m(\u001b[0m\u001b[0mfp\u001b[0m\u001b[0;34m)\u001b[0m\u001b[0;34m.\u001b[0m\u001b[0mcopy\u001b[0m\u001b[0;34m(\u001b[0m\u001b[0;34m)\u001b[0m\u001b[0;34m\u001b[0m\u001b[0;34m\u001b[0m\u001b[0m\n\u001b[0m\u001b[1;32m   1281\u001b[0m         \u001b[0mself\u001b[0m\u001b[0;34m.\u001b[0m\u001b[0mstale\u001b[0m \u001b[0;34m=\u001b[0m \u001b[0;32mTrue\u001b[0m\u001b[0;34m\u001b[0m\u001b[0;34m\u001b[0m\u001b[0m\n\u001b[1;32m   1282\u001b[0m \u001b[0;34m\u001b[0m\u001b[0m\n",
      "\u001b[0;32m~/miniconda3/lib/python3.9/site-packages/matplotlib/font_manager.py\u001b[0m in \u001b[0;36m_from_any\u001b[0;34m(cls, arg)\u001b[0m\n\u001b[1;32m    714\u001b[0m             \u001b[0;32mreturn\u001b[0m \u001b[0mcls\u001b[0m\u001b[0;34m(\u001b[0m\u001b[0mfname\u001b[0m\u001b[0;34m=\u001b[0m\u001b[0marg\u001b[0m\u001b[0;34m)\u001b[0m\u001b[0;34m\u001b[0m\u001b[0;34m\u001b[0m\u001b[0m\n\u001b[1;32m    715\u001b[0m         \u001b[0;32melif\u001b[0m \u001b[0misinstance\u001b[0m\u001b[0;34m(\u001b[0m\u001b[0marg\u001b[0m\u001b[0;34m,\u001b[0m \u001b[0mstr\u001b[0m\u001b[0;34m)\u001b[0m\u001b[0;34m:\u001b[0m\u001b[0;34m\u001b[0m\u001b[0;34m\u001b[0m\u001b[0m\n\u001b[0;32m--> 716\u001b[0;31m             \u001b[0;32mreturn\u001b[0m \u001b[0mcls\u001b[0m\u001b[0;34m(\u001b[0m\u001b[0marg\u001b[0m\u001b[0;34m)\u001b[0m\u001b[0;34m\u001b[0m\u001b[0;34m\u001b[0m\u001b[0m\n\u001b[0m\u001b[1;32m    717\u001b[0m         \u001b[0;32melse\u001b[0m\u001b[0;34m:\u001b[0m\u001b[0;34m\u001b[0m\u001b[0;34m\u001b[0m\u001b[0m\n\u001b[1;32m    718\u001b[0m             \u001b[0;32mreturn\u001b[0m \u001b[0mcls\u001b[0m\u001b[0;34m(\u001b[0m\u001b[0;34m**\u001b[0m\u001b[0marg\u001b[0m\u001b[0;34m)\u001b[0m\u001b[0;34m\u001b[0m\u001b[0;34m\u001b[0m\u001b[0m\n",
      "\u001b[0;32m~/miniconda3/lib/python3.9/site-packages/matplotlib/font_manager.py\u001b[0m in \u001b[0;36m__init__\u001b[0;34m(self, family, style, variant, weight, stretch, size, fname, math_fontfamily)\u001b[0m\n\u001b[1;32m    693\u001b[0m                 \u001b[0;32mand\u001b[0m \u001b[0mstyle\u001b[0m \u001b[0;32mis\u001b[0m \u001b[0;32mNone\u001b[0m \u001b[0;32mand\u001b[0m \u001b[0mvariant\u001b[0m \u001b[0;32mis\u001b[0m \u001b[0;32mNone\u001b[0m \u001b[0;32mand\u001b[0m \u001b[0mweight\u001b[0m \u001b[0;32mis\u001b[0m \u001b[0;32mNone\u001b[0m\u001b[0;34m\u001b[0m\u001b[0;34m\u001b[0m\u001b[0m\n\u001b[1;32m    694\u001b[0m                 and stretch is None and size is None and fname is None):\n\u001b[0;32m--> 695\u001b[0;31m             \u001b[0mself\u001b[0m\u001b[0;34m.\u001b[0m\u001b[0mset_fontconfig_pattern\u001b[0m\u001b[0;34m(\u001b[0m\u001b[0mfamily\u001b[0m\u001b[0;34m)\u001b[0m\u001b[0;34m\u001b[0m\u001b[0;34m\u001b[0m\u001b[0m\n\u001b[0m\u001b[1;32m    696\u001b[0m \u001b[0;34m\u001b[0m\u001b[0m\n\u001b[1;32m    697\u001b[0m     \u001b[0;34m@\u001b[0m\u001b[0mclassmethod\u001b[0m\u001b[0;34m\u001b[0m\u001b[0;34m\u001b[0m\u001b[0m\n",
      "\u001b[0;32m~/miniconda3/lib/python3.9/site-packages/matplotlib/font_manager.py\u001b[0m in \u001b[0;36mset_fontconfig_pattern\u001b[0;34m(self, pattern)\u001b[0m\n\u001b[1;32m    938\u001b[0m         \u001b[0mpattern\u001b[0m \u001b[0msyntax\u001b[0m \u001b[0;32mfor\u001b[0m \u001b[0muse\u001b[0m \u001b[0mhere\u001b[0m\u001b[0;34m.\u001b[0m\u001b[0;34m\u001b[0m\u001b[0;34m\u001b[0m\u001b[0m\n\u001b[1;32m    939\u001b[0m         \"\"\"\n\u001b[0;32m--> 940\u001b[0;31m         \u001b[0;32mfor\u001b[0m \u001b[0mkey\u001b[0m\u001b[0;34m,\u001b[0m \u001b[0mval\u001b[0m \u001b[0;32min\u001b[0m \u001b[0mparse_fontconfig_pattern\u001b[0m\u001b[0;34m(\u001b[0m\u001b[0mpattern\u001b[0m\u001b[0;34m)\u001b[0m\u001b[0;34m.\u001b[0m\u001b[0mitems\u001b[0m\u001b[0;34m(\u001b[0m\u001b[0;34m)\u001b[0m\u001b[0;34m:\u001b[0m\u001b[0;34m\u001b[0m\u001b[0;34m\u001b[0m\u001b[0m\n\u001b[0m\u001b[1;32m    941\u001b[0m             \u001b[0;32mif\u001b[0m \u001b[0mtype\u001b[0m\u001b[0;34m(\u001b[0m\u001b[0mval\u001b[0m\u001b[0;34m)\u001b[0m \u001b[0;34m==\u001b[0m \u001b[0mlist\u001b[0m\u001b[0;34m:\u001b[0m\u001b[0;34m\u001b[0m\u001b[0;34m\u001b[0m\u001b[0m\n\u001b[1;32m    942\u001b[0m                 \u001b[0mgetattr\u001b[0m\u001b[0;34m(\u001b[0m\u001b[0mself\u001b[0m\u001b[0;34m,\u001b[0m \u001b[0;34m\"set_\"\u001b[0m \u001b[0;34m+\u001b[0m \u001b[0mkey\u001b[0m\u001b[0;34m)\u001b[0m\u001b[0;34m(\u001b[0m\u001b[0mval\u001b[0m\u001b[0;34m[\u001b[0m\u001b[0;36m0\u001b[0m\u001b[0;34m]\u001b[0m\u001b[0;34m)\u001b[0m\u001b[0;34m\u001b[0m\u001b[0;34m\u001b[0m\u001b[0m\n",
      "\u001b[0;32m~/miniconda3/lib/python3.9/site-packages/matplotlib/_fontconfig_pattern.py\u001b[0m in \u001b[0;36mparse\u001b[0;34m(self, pattern)\u001b[0m\n\u001b[1;32m    127\u001b[0m             \u001b[0mself\u001b[0m\u001b[0;34m.\u001b[0m\u001b[0m_parser\u001b[0m\u001b[0;34m.\u001b[0m\u001b[0mparseString\u001b[0m\u001b[0;34m(\u001b[0m\u001b[0mpattern\u001b[0m\u001b[0;34m)\u001b[0m\u001b[0;34m\u001b[0m\u001b[0;34m\u001b[0m\u001b[0m\n\u001b[1;32m    128\u001b[0m         \u001b[0;32mexcept\u001b[0m \u001b[0mself\u001b[0m\u001b[0;34m.\u001b[0m\u001b[0mParseException\u001b[0m \u001b[0;32mas\u001b[0m \u001b[0me\u001b[0m\u001b[0;34m:\u001b[0m\u001b[0;34m\u001b[0m\u001b[0;34m\u001b[0m\u001b[0m\n\u001b[0;32m--> 129\u001b[0;31m             raise ValueError(\n\u001b[0m\u001b[1;32m    130\u001b[0m                 \"Could not parse font string: '%s'\\n%s\" % (pattern, e)) from e\n\u001b[1;32m    131\u001b[0m \u001b[0;34m\u001b[0m\u001b[0m\n",
      "\u001b[0;31mValueError\u001b[0m: Could not parse font string: 'xx-large'\nExpected end of text, found '-'  (at char 2), (line:1, col:3)"
     ]
    },
    {
     "data": {
      "image/png": "[encoded data removed]",
      "text/plain": [
       "<Figure size 1200x600 with 1 Axes>"
      ]
     },
     "metadata": {},
     "output_type": "display_data"
    }
   ],
   "source": [
    "import matplotlib.pyplot as plt\n",
    "import numpy as np\n",
    "\n",
    "fig, ax = plt.subplots(figsize=(12, 6))\n",
    "\n",
    "x = np.arange(0, 10, 0.1)\n",
    "y = np.sin(x)\n",
    "z = np.cos(x)\n",
    "\n",
    "ax.plot(y, color='blue', label='Sine wave')\n",
    "ax.plot(z, color='black', label='Cosine wave')\n",
    "ax.set_title('Sine and cosine waves', fontsize=8)\n",
    "ax.text(1, 1, \"hello world\", fontproperties = 'xx-large')\n",
    "\n",
    "\n",
    "ax.set_xlabel('Time', fontsize=8)\n",
    "ax.set_ylabel('Intensity', fontsize=8)\n",
    "leg = ax.legend()\n",
    "\n",
    "plt.show()"
   ]
  },
  {
   "cell_type": "code",
   "execution_count": null,
   "id": "29901c61",
   "metadata": {},
   "outputs": [],
   "source": []
  }
 ],
 "metadata": {
  "kernelspec": {
   "display_name": "Python 3 (ipykernel)",
   "language": "python",
   "name": "python3"
  },
  "language_info": {
   "codemirror_mode": {
    "name": "ipython",
    "version": 3
   },
   "file_extension": ".py",
   "mimetype": "text/x-python",
   "name": "python",
   "nbconvert_exporter": "python",
   "pygments_lexer": "ipython3",
   "version": "3.9.12"
  }
 },
 "nbformat": 4,
 "nbformat_minor": 5
}

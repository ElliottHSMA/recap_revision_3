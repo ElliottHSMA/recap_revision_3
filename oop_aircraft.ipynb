{
 "cells": [
  {
   "cell_type": "markdown",
   "id": "1b34ae86",
   "metadata": {},
   "source": [
    "Inspired from:\n",
    "    \n",
    "    https://github.com/CoderDojoOlney/TopTrumps-Python/blob/master/TopTrumps/TopTrumps.py"
   ]
  },
  {
   "cell_type": "code",
   "execution_count": 1,
   "id": "51abf2f7",
   "metadata": {},
   "outputs": [],
   "source": [
    "import random"
   ]
  },
  {
   "cell_type": "code",
   "execution_count": 2,
   "id": "48f6df93",
   "metadata": {},
   "outputs": [],
   "source": [
    "class Aircraft:\n",
    "    def __init__(self, carrier, model, reg, engine_man):\n",
    "        self.carrier = carrier\n",
    "        self.model = model\n",
    "        self.reg = reg\n",
    "        self.engine_man = engine_man\n",
    "        # aircraft stats\n",
    "        self.cycles = 0\n",
    "        self.historic_cycles = []\n",
    "        self.total_pax_carried = 0\n",
    "        self.flight_nums_operated = []\n",
    "        self.historic_flight_nums_operated = []\n",
    "    \n",
    "    def add_flight(self, pax, flight_num):\n",
    "        self.cycles += 1\n",
    "        self.total_pax_carried += pax\n",
    "        self.flight_nums_operated.append(flight_num)\n",
    "        \n",
    "    def engine_swap(self, engine_man):\n",
    "        self.engine_man = engine_man\n",
    "        self.historic_cycles.append(self.cycles)\n",
    "        self.cycles = 0\n",
    "    \n",
    "    def re_register(self, reg):\n",
    "        self.reg = reg\n",
    "        self.historic_flight_nums_operated.append(self.flight_nums_operated)\n",
    "        self.flight_nums_operated = []\n",
    "        \n",
    "    def print_stats(self):\n",
    "        print(f\"This {self.model} has carried {self.total_pax_carried}\",\n",
    "              f\"pax during its {self.cycles} cyles on\",\n",
    "              f\"{str(len(set(self.flight_nums_operated)))}\",\n",
    "              f\"unique flight numbers {self.reg}\")        "
   ]
  },
  {
   "cell_type": "code",
   "execution_count": 3,
   "id": "38975d3c",
   "metadata": {},
   "outputs": [],
   "source": [
    "# Add the fleet\n",
    "ba_fleet = []\n",
    "a320_regs = ['G-BOAC', 'G-BOAD', 'G-BOAE', 'G-BOAF']\n",
    "\n",
    "for plane in a320_regs:\n",
    "    ba_fleet.append(Aircraft('ba', 'a321', plane, 'ge'))"
   ]
  },
  {
   "cell_type": "code",
   "execution_count": 4,
   "id": "e5f26464",
   "metadata": {},
   "outputs": [
    {
     "data": {
      "text/plain": [
       "4"
      ]
     },
     "execution_count": 4,
     "metadata": {},
     "output_type": "execute_result"
    }
   ],
   "source": [
    "len(ba_fleet)"
   ]
  },
  {
   "cell_type": "code",
   "execution_count": 5,
   "id": "a86d61a1",
   "metadata": {},
   "outputs": [
    {
     "data": {
      "text/plain": [
       "'G-BOAC'"
      ]
     },
     "execution_count": 5,
     "metadata": {},
     "output_type": "execute_result"
    }
   ],
   "source": [
    "ba_fleet[0].reg"
   ]
  },
  {
   "cell_type": "code",
   "execution_count": 6,
   "id": "380fdead",
   "metadata": {},
   "outputs": [],
   "source": [
    "for i in range(450000):\n",
    "    rand_aircraft_idx = random.randint(0, len(ba_fleet)-1)\n",
    "    pax = random.randint(1, 130)\n",
    "    flight_num = 'ba' + str(random.randint(100, 199))\n",
    "    if ba_fleet[rand_aircraft_idx].cycles >= 8000:\n",
    "        ba_fleet[rand_aircraft_idx].engine_swap('rr')\n",
    "    ba_fleet[rand_aircraft_idx].add_flight(pax, flight_num)"
   ]
  },
  {
   "cell_type": "code",
   "execution_count": 7,
   "id": "7fb4cae0",
   "metadata": {},
   "outputs": [
    {
     "name": "stdout",
     "output_type": "stream",
     "text": [
      "This a321 has carried 7398040 pax during its 456 cyles on 100 unique flight numbers G-BOAC\n",
      "This a321 has carried 7335883 pax during its 245 cyles on 100 unique flight numbers G-BOAD\n",
      "This a321 has carried 7398883 pax during its 665 cyles on 100 unique flight numbers G-BOAE\n",
      "This a321 has carried 7376048 pax during its 634 cyles on 100 unique flight numbers G-BOAF\n"
     ]
    }
   ],
   "source": [
    "for plane in ba_fleet:\n",
    "    plane.print_stats()"
   ]
  },
  {
   "cell_type": "code",
   "execution_count": 8,
   "id": "f7bf0a5b",
   "metadata": {},
   "outputs": [
    {
     "name": "stdout",
     "output_type": "stream",
     "text": [
      "G-BOAC\n"
     ]
    }
   ],
   "source": [
    "for plane in ba_fleet:\n",
    "    if plane.reg == 'G-BOAC':\n",
    "        print(plane.reg)"
   ]
  },
  {
   "cell_type": "code",
   "execution_count": null,
   "id": "c341f63b",
   "metadata": {},
   "outputs": [],
   "source": []
  },
  {
   "cell_type": "code",
   "execution_count": null,
   "id": "5964d40f",
   "metadata": {},
   "outputs": [],
   "source": []
  },
  {
   "cell_type": "code",
   "execution_count": null,
   "id": "ba8a05d1",
   "metadata": {},
   "outputs": [],
   "source": []
  }
 ],
 "metadata": {
  "kernelspec": {
   "display_name": "Python 3 (ipykernel)",
   "language": "python",
   "name": "python3"
  },
  "language_info": {
   "codemirror_mode": {
    "name": "ipython",
    "version": 3
   },
   "file_extension": ".py",
   "mimetype": "text/x-python",
   "name": "python",
   "nbconvert_exporter": "python",
   "pygments_lexer": "ipython3",
   "version": "3.9.12"
  }
 },
 "nbformat": 4,
 "nbformat_minor": 5
}
